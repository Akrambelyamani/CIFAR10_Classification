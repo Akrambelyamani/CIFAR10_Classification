{
 "cells": [
  {
   "cell_type": "markdown",
   "id": "810f3ace",
   "metadata": {},
   "source": [
    "# Import Libraries"
   ]
  },
  {
   "cell_type": "code",
   "execution_count": 2,
   "id": "2977b41a",
   "metadata": {},
   "outputs": [],
   "source": [
    "# Importation des bibliothèques nécessaires pour la manipulation des données et la visualisation\n",
    "import numpy as np  # Pour la manipulation des tableaux de données\n",
    "import matplotlib.pyplot as plt  # Pour la visualisation des données\n",
    "\n",
    "# Importation des bibliothèques nécessaires pour créer et entraîner le modèle\n",
    "import tensorflow as tf  # Framework pour créer et entraîner des modèles de deep learning\n",
    "from tensorflow.keras import datasets, layers, models  # Modules pour les datasets, les couches et les modèles\n",
    "\n",
    "# Importation des bibliothèques pour l'évaluation du modèle\n",
    "from sklearn.metrics import classification_report, confusion_matrix  # Pour générer des rapports de classification et des matrices de confusion\n",
    "import seaborn as sns  # Pour la visualisation des matrices de confusion\n"
   ]
  },
  {
   "cell_type": "markdown",
   "id": "3d76e88b",
   "metadata": {},
   "source": [
    "# Charger et prétraiter les données"
   ]
  },
  {
   "cell_type": "code",
   "execution_count": 3,
   "id": "42171890",
   "metadata": {},
   "outputs": [],
   "source": [
    "# Charger le jeu de données CIFAR-10\n",
    "(x_train, y_train), (x_test, y_test) = datasets.cifar10.load_data()\n",
    "\n",
    "# Nom des classes dans CIFAR-10\n",
    "class_names = ['airplane', 'automobile', 'bird', 'cat', 'deer', 'dog', 'frog', 'horse', 'ship', 'truck']\n",
    "\n",
    "# Créer des étiquettes binaires: 1 pour 'peut voler' (oiseau, avion), 0 pour 'ne peut pas voler' (autres)\n",
    "can_fly = ['bird', 'airplane']\n",
    "y_train_bin = np.where(np.isin(y_train, [class_names.index(cls) for cls in can_fly]), 1, 0)\n",
    "y_test_bin = np.where(np.isin(y_test, [class_names.index(cls) for cls in can_fly]), 1, 0)"
   ]
  },
  {
   "cell_type": "markdown",
   "id": "255748c3",
   "metadata": {},
   "source": [
    "# Construire le modèle CNN"
   ]
  },
  {
   "cell_type": "code",
   "execution_count": 4,
   "id": "280644e5",
   "metadata": {},
   "outputs": [],
   "source": [
    "# Initialiser le modèle séquentiel\n",
    "model = models.Sequential()\n",
    "\n",
    "# Ajouter une couche d'entrée explicite\n",
    "model.add(layers.Input(shape=(32, 32, 3)))\n",
    "\n",
    "# Ajouter une couche de convolution 2D avec 32 filtres, une taille de noyau de 3x3 et l'activation ReLU\n",
    "model.add(layers.Conv2D(32, (3, 3), activation='relu'))\n",
    "\n",
    "# Ajouter une couche de pooling maximale 2x2\n",
    "model.add(layers.MaxPooling2D((2, 2)))\n",
    "\n",
    "# Ajouter une deuxième couche de convolution 2D avec 64 filtres et l'activation ReLU\n",
    "model.add(layers.Conv2D(64, (3, 3), activation='relu'))\n",
    "\n",
    "# Ajouter une deuxième couche de pooling maximale 2x2\n",
    "model.add(layers.MaxPooling2D((2, 2)))\n",
    "\n",
    "# Ajouter une troisième couche de convolution 2D avec 64 filtres et l'activation ReLU\n",
    "model.add(layers.Conv2D(64, (3, 3), activation='relu'))\n",
    "\n",
    "# Aplatir les données\n",
    "model.add(layers.Flatten())\n",
    "\n",
    "# Ajouter une couche dense entièrement connectée avec 64 neurones et l'activation ReLU\n",
    "model.add(layers.Dense(64, activation='relu'))\n",
    "\n",
    "# Ajouter la couche de sortie avec 1 neurone et l'activation sigmoïde pour la classification binaire\n",
    "model.add(layers.Dense(1, activation='sigmoid'))"
   ]
  },
  {
   "cell_type": "markdown",
   "id": "ed4bac64",
   "metadata": {},
   "source": [
    "# Compiler le modèle"
   ]
  },
  {
   "cell_type": "code",
   "execution_count": 5,
   "id": "15f6dffb",
   "metadata": {},
   "outputs": [],
   "source": [
    "# Compiler le modèle avec l'optimiseur Adam, la fonction de perte binaire et la métrique de précision\n",
    "model.compile(optimizer='adam',loss='binary_crossentropy',metrics=['accuracy'])"
   ]
  },
  {
   "cell_type": "markdown",
   "id": "c370d74d",
   "metadata": {},
   "source": [
    "# Entraîner le modèle\n"
   ]
  },
  {
   "cell_type": "code",
   "execution_count": 13,
   "id": "854300df",
   "metadata": {},
   "outputs": [
    {
     "name": "stdout",
     "output_type": "stream",
     "text": [
      "Epoch 1/10\n",
      "\u001b[1m1563/1563\u001b[0m \u001b[32m━━━━━━━━━━━━━━━━━━━━\u001b[0m\u001b[37m\u001b[0m \u001b[1m64s\u001b[0m 37ms/step - accuracy: 0.7994 - loss: 0.6927 - val_accuracy: 0.8232 - val_loss: 0.4101\n",
      "Epoch 2/10\n",
      "\u001b[1m1563/1563\u001b[0m \u001b[32m━━━━━━━━━━━━━━━━━━━━\u001b[0m\u001b[37m\u001b[0m \u001b[1m48s\u001b[0m 30ms/step - accuracy: 0.8342 - loss: 0.3984 - val_accuracy: 0.8190 - val_loss: 0.4182\n",
      "Epoch 3/10\n",
      "\u001b[1m1563/1563\u001b[0m \u001b[32m━━━━━━━━━━━━━━━━━━━━\u001b[0m\u001b[37m\u001b[0m \u001b[1m46s\u001b[0m 29ms/step - accuracy: 0.8547 - loss: 0.3555 - val_accuracy: 0.8300 - val_loss: 0.4181\n",
      "Epoch 4/10\n",
      "\u001b[1m1563/1563\u001b[0m \u001b[32m━━━━━━━━━━━━━━━━━━━━\u001b[0m\u001b[37m\u001b[0m \u001b[1m76s\u001b[0m 25ms/step - accuracy: 0.8696 - loss: 0.3256 - val_accuracy: 0.8622 - val_loss: 0.3301\n",
      "Epoch 5/10\n",
      "\u001b[1m1563/1563\u001b[0m \u001b[32m━━━━━━━━━━━━━━━━━━━━\u001b[0m\u001b[37m\u001b[0m \u001b[1m43s\u001b[0m 26ms/step - accuracy: 0.8776 - loss: 0.3024 - val_accuracy: 0.8714 - val_loss: 0.3192\n",
      "Epoch 6/10\n",
      "\u001b[1m1563/1563\u001b[0m \u001b[32m━━━━━━━━━━━━━━━━━━━━\u001b[0m\u001b[37m\u001b[0m \u001b[1m41s\u001b[0m 26ms/step - accuracy: 0.8850 - loss: 0.2873 - val_accuracy: 0.8706 - val_loss: 0.3278\n",
      "Epoch 7/10\n",
      "\u001b[1m1563/1563\u001b[0m \u001b[32m━━━━━━━━━━━━━━━━━━━━\u001b[0m\u001b[37m\u001b[0m \u001b[1m41s\u001b[0m 26ms/step - accuracy: 0.8944 - loss: 0.2670 - val_accuracy: 0.8852 - val_loss: 0.2968\n",
      "Epoch 8/10\n",
      "\u001b[1m1563/1563\u001b[0m \u001b[32m━━━━━━━━━━━━━━━━━━━━\u001b[0m\u001b[37m\u001b[0m \u001b[1m41s\u001b[0m 26ms/step - accuracy: 0.9023 - loss: 0.2519 - val_accuracy: 0.8799 - val_loss: 0.3002\n",
      "Epoch 9/10\n",
      "\u001b[1m1563/1563\u001b[0m \u001b[32m━━━━━━━━━━━━━━━━━━━━\u001b[0m\u001b[37m\u001b[0m \u001b[1m42s\u001b[0m 27ms/step - accuracy: 0.9121 - loss: 0.2290 - val_accuracy: 0.8801 - val_loss: 0.3073\n",
      "Epoch 10/10\n",
      "\u001b[1m1563/1563\u001b[0m \u001b[32m━━━━━━━━━━━━━━━━━━━━\u001b[0m\u001b[37m\u001b[0m \u001b[1m44s\u001b[0m 28ms/step - accuracy: 0.9146 - loss: 0.2166 - val_accuracy: 0.8857 - val_loss: 0.3012\n"
     ]
    }
   ],
   "source": [
    "# Entraîner le modèle avec les données d'entraînement, sur 10 époques, avec les données de test comme validation\n",
    "history = model.fit(x_train, y_train_bin, epochs=10,validation_data=(x_test, y_test_bin))"
   ]
  },
  {
   "cell_type": "markdown",
   "id": "62e702fc",
   "metadata": {},
   "source": [
    "# Évaluer le modèle\n"
   ]
  },
  {
   "cell_type": "code",
   "execution_count": 14,
   "id": "4e6075e4",
   "metadata": {},
   "outputs": [
    {
     "name": "stdout",
     "output_type": "stream",
     "text": [
      "\u001b[1m313/313\u001b[0m \u001b[32m━━━━━━━━━━━━━━━━━━━━\u001b[0m\u001b[37m\u001b[0m \u001b[1m3s\u001b[0m 10ms/step\n",
      "              precision    recall  f1-score   support\n",
      "\n",
      "  cannot fly       0.90      0.97      0.93      8000\n",
      "     can fly       0.82      0.55      0.66      2000\n",
      "\n",
      "    accuracy                           0.89     10000\n",
      "   macro avg       0.86      0.76      0.79     10000\n",
      "weighted avg       0.88      0.89      0.88     10000\n",
      "\n"
     ]
    },
    {
     "data": {
      "image/png": "[encoded data removed]",
      "text/plain": [
       "<Figure size 800x600 with 2 Axes>"
      ]
     },
     "metadata": {},
     "output_type": "display_data"
    }
   ],
   "source": [
    "# Prédire les classes pour les données de test\n",
    "y_pred = model.predict(x_test)\n",
    "y_pred_bin = (y_pred > 0.5).astype(int)\n",
    "\n",
    "# Générer et afficher le rapport de classification\n",
    "print(classification_report(y_test_bin, y_pred_bin, target_names=['cannot fly', 'can fly']))\n",
    "\n",
    "# Générer et afficher la matrice de confusion\n",
    "cm = confusion_matrix(y_test_bin, y_pred_bin)\n",
    "plt.figure(figsize=(8, 6))\n",
    "sns.heatmap(cm, annot=True, fmt='d', cmap='Blues', xticklabels=['cannot fly', 'can fly'], yticklabels=['cannot fly', 'can fly'])\n",
    "plt.xlabel('Predicted')\n",
    "plt.ylabel('Actual')\n",
    "plt.show()"
   ]
  },
  {
   "cell_type": "code",
   "execution_count": null,
   "id": "0a7791dc",
   "metadata": {},
   "outputs": [],
   "source": []
  }
 ],
 "metadata": {
  "kernelspec": {
   "display_name": "Python 3 (ipykernel)",
   "language": "python",
   "name": "python3"
  },
  "language_info": {
   "codemirror_mode": {
    "name": "ipython",
    "version": 3
   },
   "file_extension": ".py",
   "mimetype": "text/x-python",
   "name": "python",
   "nbconvert_exporter": "python",
   "pygments_lexer": "ipython3",
   "version": "3.11.4"
  }
 },
 "nbformat": 4,
 "nbformat_minor": 5
}
